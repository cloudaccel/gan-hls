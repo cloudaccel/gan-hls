{
 "cells": [
  {
   "cell_type": "code",
   "execution_count": 1,
   "metadata": {
    "executionInfo": {
     "elapsed": 21,
     "status": "ok",
     "timestamp": 1624437611682,
     "user": {
      "displayName": "Dimitrios Danopoulos",
      "photoUrl": "",
      "userId": "11786116271301076451"
     },
     "user_tz": -180
    },
    "id": "ewfOSrR7CNjO"
   },
   "outputs": [],
   "source": [
    "import numpy as np\n",
    "import matplotlib.pyplot as plt\n"
   ]
  },
  {
   "cell_type": "code",
   "execution_count": 2,
   "metadata": {
    "executionInfo": {
     "elapsed": 3555,
     "status": "ok",
     "timestamp": 1624437657388,
     "user": {
      "displayName": "Dimitrios Danopoulos",
      "photoUrl": "",
      "userId": "11786116271301076451"
     },
     "user_tz": -180
    },
    "id": "MuxEl1SDCNjO"
   },
   "outputs": [],
   "source": [
    "# load data for half input images\n",
    "f = open('data.txt')\n",
    "content = f.read()\n",
    "f.close()\n",
    "\n",
    "data = []\n",
    "\n",
    "for line in content.split('\\n'):\n",
    "    if line != '':\n",
    "        row = line.split(';')\n",
    "        data.append(list(map(float, row)))\n",
    "        \n",
    "        \n",
    "data = np.asarray(data)"
   ]
  },
  {
   "cell_type": "code",
   "execution_count": 3,
   "metadata": {
    "colab": {
     "base_uri": "https://localhost:8080/"
    },
    "executionInfo": {
     "elapsed": 21,
     "status": "ok",
     "timestamp": 1624437657390,
     "user": {
      "displayName": "Dimitrios Danopoulos",
      "photoUrl": "",
      "userId": "11786116271301076451"
     },
     "user_tz": -180
    },
    "id": "pZphMqO4CNjO",
    "outputId": "28850632-eca2-4fae-96ea-408250e880af"
   },
   "outputs": [
    {
     "data": {
      "text/plain": [
       "(10000, 392)"
      ]
     },
     "execution_count": 3,
     "metadata": {},
     "output_type": "execute_result"
    }
   ],
   "source": [
    "data.shape"
   ]
  },
  {
   "cell_type": "code",
   "execution_count": 4,
   "metadata": {
    "colab": {
     "base_uri": "https://localhost:8080/",
     "height": 215
    },
    "executionInfo": {
     "elapsed": 326,
     "status": "ok",
     "timestamp": 1624437737836,
     "user": {
      "displayName": "Dimitrios Danopoulos",
      "photoUrl": "",
      "userId": "11786116271301076451"
     },
     "user_tz": -180
    },
    "id": "_EUBlxrSCNjR",
    "outputId": "1115690d-3011-4b0c-d4ac-4505ba70848d"
   },
   "outputs": [
    {
     "data": {
      "text/plain": [
       "(-0.5, 27.5, 13.5, -0.5)"
      ]
     },
     "execution_count": 4,
     "metadata": {},
     "output_type": "execute_result"
    },
    {
     "data": {
      "image/png": "[encoded data removed]",
      "text/plain": [
       "<Figure size 432x288 with 1 Axes>"
      ]
     },
     "metadata": {
      "needs_background": "light"
     },
     "output_type": "display_data"
    }
   ],
   "source": [
    "#Set Image to evaluate\n",
    "idx = 10\n",
    "\n",
    "plt.figure()\n",
    "plt.imshow(data[idx,:].reshape(14,28), cmap = 'gray')\n",
    "plt.axis('off')"
   ]
  },
  {
   "cell_type": "code",
   "execution_count": 5,
   "metadata": {
    "executionInfo": {
     "elapsed": 5,
     "status": "ok",
     "timestamp": 1624437738090,
     "user": {
      "displayName": "Dimitrios Danopoulos",
      "photoUrl": "",
      "userId": "11786116271301076451"
     },
     "user_tz": -180
    },
    "id": "LY1HNVl-CNjS"
   },
   "outputs": [],
   "source": [
    "#load data for half output images\n",
    "f = open('output.txt')\n",
    "content = f.readlines()[1:]\n",
    "f.close()\n",
    "\n",
    "data_sw = []\n",
    "data_hw = []\n",
    "\n",
    "for s in content:\n",
    "  t = s.split(';')\n",
    "  data_sw.append(float(t[0]))\n",
    "  data_hw.append(float((t[1].split('\\n'))[0]))\n",
    "  \n",
    "data_sw = np.asarray(data_sw)\n",
    "data_hw = np.asarray(data_hw)\n"
   ]
  },
  {
   "cell_type": "code",
   "execution_count": 6,
   "metadata": {
    "executionInfo": {
     "elapsed": 6,
     "status": "ok",
     "timestamp": 1624437738335,
     "user": {
      "displayName": "Dimitrios Danopoulos",
      "photoUrl": "",
      "userId": "11786116271301076451"
     },
     "user_tz": -180
    },
    "id": "70lHikk8RsRn"
   },
   "outputs": [],
   "source": [
    "def image_combiner(cut, generated):\n",
    "  full_image = np.concatenate((cut,generated))\n",
    "  return full_image"
   ]
  },
  {
   "cell_type": "code",
   "execution_count": 7,
   "metadata": {
    "colab": {
     "base_uri": "https://localhost:8080/",
     "height": 496
    },
    "executionInfo": {
     "elapsed": 381,
     "status": "ok",
     "timestamp": 1624437740950,
     "user": {
      "displayName": "Dimitrios Danopoulos",
      "photoUrl": "",
      "userId": "11786116271301076451"
     },
     "user_tz": -180
    },
    "id": "4wV_P3mHTaPF",
    "outputId": "fdb88e2a-35ff-40b6-dfdc-2646dc9624e0"
   },
   "outputs": [
    {
     "data": {
      "text/plain": [
       "(-0.5, 27.5, 27.5, -0.5)"
      ]
     },
     "execution_count": 7,
     "metadata": {},
     "output_type": "execute_result"
    },
    {
     "data": {
      "image/png": "[encoded data removed]",
      "text/plain": [
       "<Figure size 432x288 with 1 Axes>"
      ]
     },
     "metadata": {
      "needs_background": "light"
     },
     "output_type": "display_data"
    },
    {
     "data": {
      "image/png": "[encoded data removed]",
      "text/plain": [
       "<Figure size 432x288 with 1 Axes>"
      ]
     },
     "metadata": {
      "needs_background": "light"
     },
     "output_type": "display_data"
    }
   ],
   "source": [
    "offset = 14*28    # offset for pixels of half image\n",
    "\n",
    "# combined image for software output\n",
    "output_sw = image_combiner(data[idx,:].reshape(14,28), \n",
    "                  data_sw[idx*offset:idx*offset+offset].reshape(14,28))\n",
    "\n",
    "# combined image for hardware output\n",
    "output_hw = image_combiner(data[idx,:].reshape(14,28), \n",
    "                  data_hw[idx*offset:idx*offset+offset].reshape(14,28))\n",
    "\n",
    "plt.figure()\n",
    "plt.imshow(output_sw.reshape((28,28)).astype(np.float32), cmap = 'gray')\n",
    "plt.axis('off')\n",
    "\n",
    "plt.figure()\n",
    "plt.imshow(output_hw.reshape((28,28)).astype(np.float32), cmap = 'gray')\n",
    "plt.axis('off')"
   ]
  },
  {
   "cell_type": "code",
   "execution_count": 8,
   "metadata": {
    "executionInfo": {
     "elapsed": 267,
     "status": "ok",
     "timestamp": 1624437748860,
     "user": {
      "displayName": "Dimitrios Danopoulos",
      "photoUrl": "",
      "userId": "11786116271301076451"
     },
     "user_tz": -180
    },
    "id": "e341myFmebQu"
   },
   "outputs": [],
   "source": [
    "# scale images to 0-255\n",
    "img_data_hw=(output_hw*127.5 + 127.5).astype(int)\n",
    "img_data_sw=(output_sw*127.5 + 127.5).astype(int)"
   ]
  },
  {
   "cell_type": "code",
   "execution_count": 9,
   "metadata": {
    "executionInfo": {
     "elapsed": 6,
     "status": "ok",
     "timestamp": 1624437749114,
     "user": {
      "displayName": "Dimitrios Danopoulos",
      "photoUrl": "",
      "userId": "11786116271301076451"
     },
     "user_tz": -180
    },
    "id": "16qhb3KcmP3J"
   },
   "outputs": [],
   "source": [
    "import math\n",
    "\n",
    "def psnr(img_data1, img_data2):\n",
    "    mse = np.mean( (img_data1 - img_data2) ** 2 )\n",
    "    if mse == 0:\n",
    "      return 100\n",
    "    PIXEL_MAX = 255.0\n",
    "    return 20 * math.log10(PIXEL_MAX / math.sqrt(mse))\n",
    "\n",
    "def max_error (img_data1, img_data2):\n",
    "    return np.max(abs(img_data1-img_data2))\n"
   ]
  },
  {
   "cell_type": "code",
   "execution_count": 10,
   "metadata": {
    "colab": {
     "base_uri": "https://localhost:8080/"
    },
    "executionInfo": {
     "elapsed": 11,
     "status": "ok",
     "timestamp": 1624437749439,
     "user": {
      "displayName": "Dimitrios Danopoulos",
      "photoUrl": "",
      "userId": "11786116271301076451"
     },
     "user_tz": -180
    },
    "id": "oAOlg4geexF5",
    "outputId": "77269609-e149-40cd-df20-b59403533159"
   },
   "outputs": [
    {
     "name": "stdout",
     "output_type": "stream",
     "text": [
      "Max pixel error:  8\n",
      "Peak Signal-to-Noise Ratio:  47.01786978192068\n"
     ]
    }
   ],
   "source": [
    "print (\"Max pixel error: \", max_error(img_data_sw, img_data_hw))\n",
    "print (\"Peak Signal-to-Noise Ratio: \", psnr(img_data_sw, img_data_hw))"
   ]
  },
  {
   "cell_type": "code",
   "execution_count": null,
   "metadata": {
    "id": "TbaKUOl6kkSG"
   },
   "outputs": [],
   "source": []
  }
 ],
 "metadata": {
  "colab": {
   "collapsed_sections": [],
   "name": "plot_output.ipynb",
   "provenance": []
  },
  "kernelspec": {
   "display_name": "Python 3",
   "language": "python",
   "name": "python3"
  },
  "language_info": {
   "codemirror_mode": {
    "name": "ipython",
    "version": 3
   },
   "file_extension": ".py",
   "mimetype": "text/x-python",
   "name": "python",
   "nbconvert_exporter": "python",
   "pygments_lexer": "ipython3",
   "version": "3.6.7"
  }
 },
 "nbformat": 4,
 "nbformat_minor": 1
}
